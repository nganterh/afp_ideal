{
 "cells": [
  {
   "cell_type": "code",
   "execution_count": null,
   "metadata": {},
   "outputs": [],
   "source": [
    "from datetime import datetime\n",
    "import pandas as pd\n",
    "\n",
    "fecha_nacimiento = datetime.strptime('1994-03-01', '%Y-%m-%d')\n",
    "edad_de_jubilacion = 65\n",
    "\n",
    "salario_liquido = 2500000\n",
    "monto_ahorrado = 5018141"
   ]
  },
  {
   "cell_type": "code",
   "execution_count": null,
   "metadata": {},
   "outputs": [],
   "source": [
    "comisiones = {'Capital': 0.0144, 'Cuprum': 0.0144, 'Habitat': 0.0127, 'Modelo': 0.0058,\n",
    "              'Planvital': 0.0116, 'Provida': 0.0145, 'Uno': 0.0049}\n",
    "\n",
    "rentabilidad = "
   ]
  }
 ],
 "metadata": {
  "language_info": {
   "name": "python"
  }
 },
 "nbformat": 4,
 "nbformat_minor": 2
}
